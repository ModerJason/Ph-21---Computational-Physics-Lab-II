{
 "cells": [
  {
   "cell_type": "code",
   "execution_count": 1,
   "id": "15c4c834-cc5c-4662-a495-dd1d380b748f",
   "metadata": {},
   "outputs": [
    {
     "name": "stdout",
     "output_type": "stream",
     "text": [
      "test\n"
     ]
    }
   ],
   "source": [
    "print(\"test\")"
   ]
  },
  {
   "cell_type": "code",
   "execution_count": 2,
   "id": "a445de71-6a82-4194-8a29-8c8cabc41db0",
   "metadata": {},
   "outputs": [
    {
     "data": {
      "text/plain": [
       "'Hello, world'"
      ]
     },
     "execution_count": 2,
     "metadata": {},
     "output_type": "execute_result"
    }
   ],
   "source": [
    "def hello(name):\n",
    "    return f'Hello, {name}'\n",
    "\n",
    "hello('world')"
   ]
  },
  {
   "cell_type": "markdown",
   "id": "29e814db-27cd-459f-ab9e-f108edd45a8e",
   "metadata": {},
   "source": [
    "# This is a headline\n",
    "THis is a very long sentence"
   ]
  },
  {
   "cell_type": "code",
   "execution_count": null,
   "id": "b3604bae-d227-4df5-8f41-2c3fa2954c3e",
   "metadata": {},
   "outputs": [],
   "source": []
  }
 ],
 "metadata": {
  "kernelspec": {
   "display_name": "Python ph21env",
   "language": "python",
   "name": "ph21env"
  },
  "language_info": {
   "codemirror_mode": {
    "name": "ipython",
    "version": 3
   },
   "file_extension": ".py",
   "mimetype": "text/x-python",
   "name": "python",
   "nbconvert_exporter": "python",
   "pygments_lexer": "ipython3",
   "version": "3.12.8"
  }
 },
 "nbformat": 4,
 "nbformat_minor": 5
}
