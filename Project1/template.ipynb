{
 "cells": [
  {
   "cell_type": "markdown",
   "metadata": {},
   "source": [
    "# ph21: HWK 1\n",
    "In this assignment, we will get Buoy data from the NDBC and then use it to make some estimates about the future.\n",
    "\n",
    "### Familiarize yourself\n",
    "\n",
    "We will be using data from the National Data Buoy Center (NDBC). Visit the NDBC website, https://www.ndbc.noaa.gov, and access some historical data. Take a look at the URL for the data you have accessed: you will need this format to access the data from python.\n",
    "\n",
    "### Part 1: Getting the data\n",
    "\n",
    "You will need to save all necessary for your second part here. The following steps are for reference.\n",
    "\n",
    "1. Use the `requests` library (or any other similar library at your choice) to download historical Buoy data\n",
    "3. Save all data you downloaded into (a) file(s). If you feel like it, only save that part that is relevant for your second part.\n",
    "4. Use a html parser library (e.g., `BeautifulSoup`, `lxml`, or `html5lib`) to extract the meaning of the data (i.e. what is it measuring and what are the units?). Also save this information somewhere.\n",
    "5. From now on, you don't need to make any more requests to the NDBC website. Only use the data you downloaded.\n",
    "\n",
    "\n",
    "### Part 2: Processing the data\n",
    "6. (Optional) use the `pandas` library to read the data and process as needed, and save the processed data if you want to. Save the processed data\n",
    "7. plot the oceant temperatures (`WTMP`), wave heights (`WVHT`), average wave periods (`APD`), and wind speeds (`WSPD`) going back 10 years or so (some buoys don't have all the data every year)\n",
    "8. Look through `scipy.stats` and choose something like Pearson's or Spearman's correlation test. Determine what (if any) correlations you find between mean ocean temperatures and maximum wave heights or wave periods.\n"
   ]
  },
  {
   "cell_type": "markdown",
   "metadata": {},
   "source": [
    "### All written codes are only here for reference. You can also modify them if you want to."
   ]
  },
  {
   "cell_type": "markdown",
   "metadata": {},
   "source": [
    "# Part 1"
   ]
  },
  {
   "cell_type": "code",
   "execution_count": 1,
   "metadata": {},
   "outputs": [],
   "source": [
    "from datetime import datetime\n",
    "from io import StringIO\n",
    "from pathlib import Path\n",
    "\n",
    "from requests import Session\n",
    "\n",
    "from bs4 import BeautifulSoup\n",
    "from lxml import html\n",
    "\n",
    "from matplotlib import pyplot as plt\n",
    "\n",
    "import pandas as pd\n",
    "import numpy as np\n",
    "from scipy import stats\n",
    "from scipy.stats import mstats\n",
    "\n",
    "import yaml\n",
    "from tqdm import tqdm"
   ]
  },
  {
   "cell_type": "code",
   "execution_count": 3,
   "metadata": {},
   "outputs": [],
   "source": [
    "# Prepare requests session. Let's pretend we are Chrome 118 here\n",
    "\n",
    "# Think: In some cases, we can still be blocked as been flagged as bot at the first request.\n",
    "#        Can you guess how the server knows it? (ignore javascript for now)\n",
    "\n",
    "sess = Session()\n",
    "sess.headers.update({'User-Agent': 'Mozilla/5.0 (Windows NT 10.0; Win64; x64) AppleWebKit/537.36 (KHTML, like Gecko) Chrome/118.0.0.0 Safari/537.36'})\n",
    "\n",
    "# Think: What's the difference between using requests.get() and sess.get()?"
   ]
  },
  {
   "cell_type": "code",
   "execution_count": 5,
   "metadata": {},
   "outputs": [],
   "source": [
    "# Where to save the fetched data\n",
    "path = Path('./Data')\n",
    "path.mkdir(exist_ok=True)\n",
    "url_template = 'https://www.ndbc.noaa.gov/view_text_file.php?filename={buoy_id}h{year}.txt.gz&dir=data/historical/stdmet/'\n",
    "description_page_url = 'https://www.ndbc.noaa.gov/faq/measdes.shtml'"
   ]
  },
  {
   "cell_type": "code",
   "execution_count": 7,
   "metadata": {},
   "outputs": [],
   "source": [
    "# Load the config file\n",
    "with open('config.yaml') as f:\n",
    "    config = yaml.safe_load(f)\n",
    "\n",
    "buoy_ids:list[int] = config['buoys'] # We only use these id's for this assignment\n",
    "columns:list[str] = config['columns'] # Data columns we want to keep."
   ]
  },
  {
   "cell_type": "markdown",
   "metadata": {},
   "source": [
    "To fetch one file, you can do something like this:"
   ]
  },
  {
   "cell_type": "code",
   "execution_count": 9,
   "metadata": {},
   "outputs": [],
   "source": [
    "# An example of how to fetch the description and put it in a pd.DataFrame\n",
    "\n",
    "r = sess.get(url_template.format(buoy_id=41010, year=2022))\n",
    "r.raise_for_status()\n",
    "buf= StringIO(r.text)\n",
    "df = pd.read_csv(buf, sep=r'\\s+', skiprows=[1])"
   ]
  },
  {
   "cell_type": "markdown",
   "metadata": {},
   "source": [
    "Take a look:"
   ]
  },
  {
   "cell_type": "code",
   "execution_count": 11,
   "metadata": {},
   "outputs": [
    {
     "data": {
      "text/html": [
       "<div>\n",
       "<style scoped>\n",
       "    .dataframe tbody tr th:only-of-type {\n",
       "        vertical-align: middle;\n",
       "    }\n",
       "\n",
       "    .dataframe tbody tr th {\n",
       "        vertical-align: top;\n",
       "    }\n",
       "\n",
       "    .dataframe thead th {\n",
       "        text-align: right;\n",
       "    }\n",
       "</style>\n",
       "<table border=\"1\" class=\"dataframe\">\n",
       "  <thead>\n",
       "    <tr style=\"text-align: right;\">\n",
       "      <th></th>\n",
       "      <th>#YY</th>\n",
       "      <th>MM</th>\n",
       "      <th>DD</th>\n",
       "      <th>hh</th>\n",
       "      <th>mm</th>\n",
       "      <th>WDIR</th>\n",
       "      <th>WSPD</th>\n",
       "      <th>GST</th>\n",
       "      <th>WVHT</th>\n",
       "      <th>DPD</th>\n",
       "      <th>APD</th>\n",
       "      <th>MWD</th>\n",
       "      <th>PRES</th>\n",
       "      <th>ATMP</th>\n",
       "      <th>WTMP</th>\n",
       "      <th>DEWP</th>\n",
       "      <th>VIS</th>\n",
       "      <th>TIDE</th>\n",
       "    </tr>\n",
       "  </thead>\n",
       "  <tbody>\n",
       "    <tr>\n",
       "      <th>0</th>\n",
       "      <td>2022</td>\n",
       "      <td>1</td>\n",
       "      <td>1</td>\n",
       "      <td>0</td>\n",
       "      <td>0</td>\n",
       "      <td>222</td>\n",
       "      <td>1.1</td>\n",
       "      <td>1.5</td>\n",
       "      <td>99.00</td>\n",
       "      <td>99.00</td>\n",
       "      <td>99.0</td>\n",
       "      <td>999</td>\n",
       "      <td>1019.6</td>\n",
       "      <td>24.9</td>\n",
       "      <td>25.2</td>\n",
       "      <td>20.6</td>\n",
       "      <td>99.0</td>\n",
       "      <td>99.0</td>\n",
       "    </tr>\n",
       "    <tr>\n",
       "      <th>1</th>\n",
       "      <td>2022</td>\n",
       "      <td>1</td>\n",
       "      <td>1</td>\n",
       "      <td>0</td>\n",
       "      <td>10</td>\n",
       "      <td>212</td>\n",
       "      <td>1.5</td>\n",
       "      <td>1.9</td>\n",
       "      <td>99.00</td>\n",
       "      <td>99.00</td>\n",
       "      <td>99.0</td>\n",
       "      <td>999</td>\n",
       "      <td>1019.7</td>\n",
       "      <td>24.9</td>\n",
       "      <td>25.2</td>\n",
       "      <td>20.5</td>\n",
       "      <td>99.0</td>\n",
       "      <td>99.0</td>\n",
       "    </tr>\n",
       "    <tr>\n",
       "      <th>2</th>\n",
       "      <td>2022</td>\n",
       "      <td>1</td>\n",
       "      <td>1</td>\n",
       "      <td>0</td>\n",
       "      <td>20</td>\n",
       "      <td>208</td>\n",
       "      <td>1.4</td>\n",
       "      <td>1.9</td>\n",
       "      <td>99.00</td>\n",
       "      <td>99.00</td>\n",
       "      <td>99.0</td>\n",
       "      <td>999</td>\n",
       "      <td>1019.6</td>\n",
       "      <td>24.9</td>\n",
       "      <td>25.2</td>\n",
       "      <td>20.4</td>\n",
       "      <td>99.0</td>\n",
       "      <td>99.0</td>\n",
       "    </tr>\n",
       "    <tr>\n",
       "      <th>3</th>\n",
       "      <td>2022</td>\n",
       "      <td>1</td>\n",
       "      <td>1</td>\n",
       "      <td>0</td>\n",
       "      <td>30</td>\n",
       "      <td>204</td>\n",
       "      <td>1.4</td>\n",
       "      <td>1.9</td>\n",
       "      <td>99.00</td>\n",
       "      <td>99.00</td>\n",
       "      <td>99.0</td>\n",
       "      <td>999</td>\n",
       "      <td>1019.7</td>\n",
       "      <td>24.9</td>\n",
       "      <td>25.2</td>\n",
       "      <td>20.5</td>\n",
       "      <td>99.0</td>\n",
       "      <td>99.0</td>\n",
       "    </tr>\n",
       "    <tr>\n",
       "      <th>4</th>\n",
       "      <td>2022</td>\n",
       "      <td>1</td>\n",
       "      <td>1</td>\n",
       "      <td>0</td>\n",
       "      <td>40</td>\n",
       "      <td>205</td>\n",
       "      <td>1.3</td>\n",
       "      <td>1.9</td>\n",
       "      <td>0.62</td>\n",
       "      <td>13.79</td>\n",
       "      <td>4.6</td>\n",
       "      <td>28</td>\n",
       "      <td>1019.8</td>\n",
       "      <td>24.9</td>\n",
       "      <td>25.1</td>\n",
       "      <td>20.6</td>\n",
       "      <td>99.0</td>\n",
       "      <td>99.0</td>\n",
       "    </tr>\n",
       "  </tbody>\n",
       "</table>\n",
       "</div>"
      ],
      "text/plain": [
       "    #YY  MM  DD  hh  mm  WDIR  WSPD  GST   WVHT    DPD   APD  MWD    PRES  \\\n",
       "0  2022   1   1   0   0   222   1.1  1.5  99.00  99.00  99.0  999  1019.6   \n",
       "1  2022   1   1   0  10   212   1.5  1.9  99.00  99.00  99.0  999  1019.7   \n",
       "2  2022   1   1   0  20   208   1.4  1.9  99.00  99.00  99.0  999  1019.6   \n",
       "3  2022   1   1   0  30   204   1.4  1.9  99.00  99.00  99.0  999  1019.7   \n",
       "4  2022   1   1   0  40   205   1.3  1.9   0.62  13.79   4.6   28  1019.8   \n",
       "\n",
       "   ATMP  WTMP  DEWP   VIS  TIDE  \n",
       "0  24.9  25.2  20.6  99.0  99.0  \n",
       "1  24.9  25.2  20.5  99.0  99.0  \n",
       "2  24.9  25.2  20.4  99.0  99.0  \n",
       "3  24.9  25.2  20.5  99.0  99.0  \n",
       "4  24.9  25.1  20.6  99.0  99.0  "
      ]
     },
     "execution_count": 11,
     "metadata": {},
     "output_type": "execute_result"
    }
   ],
   "source": [
    "df.head()"
   ]
  },
  {
   "cell_type": "markdown",
   "metadata": {},
   "source": [
    "Now, your task here is:\n",
    "1. For each buoy_id, generate all urls pointing to its data, and fetch&save the data. If the data is missing (`status_code`=404), skip it.\n",
    "2. Save everything in raw, or any processed form that you see fits.\n",
    "3. If the file is already downloaded, don't download it again. Just skip it here.\n",
    "\n",
    "Learn more about http status codes here:\n",
    "- https://en.wikipedia.org/wiki/List_of_HTTP_status_codes\n",
    "- https://http.cat/\n",
    "\n",
    "Two important ones here for today:\n",
    "- 200: OK; everything's alright\n",
    "- 404: Not Found; the file is missing"
   ]
  },
  {
   "cell_type": "markdown",
   "metadata": {},
   "source": [
    "## Processing the data\n",
    "First, we compile 10 years of data, from 2015 to 2024, for each of the buoys. We also process them in many ways, including concatenation of relevant years and filtering by saturated or incomplete data. For example, some buoys may not have data every year. Note that we wil preemptively complete most of the data processing in this step rather than later, just for convenience."
   ]
  },
  {
   "cell_type": "code",
   "execution_count": 13,
   "metadata": {},
   "outputs": [],
   "source": [
    "for buoy in buoy_ids:\n",
    "    df_ten_years = pd.DataFrame()\n",
    "    \n",
    "    #compiling up to ten years of data into a concatenated dataframe.\n",
    "    for yr in range(2015, 2024):\n",
    "        r = sess.get(url_template.format(buoy_id=buoy, year=yr))\n",
    "    \n",
    "        #skipping years with missing data\n",
    "        if(r.status_code == 404):\n",
    "            continue\n",
    "        buf = StringIO(r.text)\n",
    "        df_year = pd.read_csv(buf, sep=r'\\s+', skiprows=[1])\n",
    "        df_ten_years = pd.concat([df_ten_years, df_year], axis=0)  \n",
    "        \n",
    "        # filtering data where any of the relevant columns has a value >= 90, or has NaN \n",
    "        df_filtered = df_ten_years[(df_ten_years[columns] < 90).all(axis=1)]\n",
    "        df_filtered.dropna(subset=columns)\n",
    "        \n",
    "        # saving data to .csv files in the Data folder\n",
    "        df_filtered.to_csv(path/f'filtered_buoy{buoy}.csv',index=False)"
   ]
  },
  {
   "cell_type": "markdown",
   "metadata": {},
   "source": [
    "Though the units for all quantities are included in the data files received already, lets also try get them again from the website along with the description for each columns by parsing htmls.\n",
    "\n",
    "All information of our interest is available at [`description_page`](https://www.ndbc.noaa.gov/faq/measdes.shtml#stdmet).\n",
    "\n",
    "Your task is to:\n",
    "\n",
    "1. Get a dictionary of all the quantity name and its unit\n",
    "2. Get a dictionary of all the quantity name and its description\n",
    "\n",
    "To achieve this, you may want to use some html parser library, such as `BeautifulSoup`, `lxml`, or `html5lib`. If you really feel like it, you can also use regex just for fun like the good old days.\n",
    "\n",
    "Tip: Having no idea where to start? Try to open the [`description_page`](https://www.ndbc.noaa.gov/faq/measdes.shtml#stdmet) in your browser, and use the `inspect` tool (F12, or Ctrl+Shift+I) to see how the html is structured and locate the part of your interest. Pasting a copy of the html to some LLM and ask it how to extract the information you want may also be a good idea.\n",
    "\n",
    "Another Tip: Something called [`xpath`](https://en.wikipedia.org/wiki/XPath) may be extremely useful here. It can be access with `lxml`."
   ]
  },
  {
   "cell_type": "code",
   "execution_count": 15,
   "metadata": {},
   "outputs": [],
   "source": [
    "r = sess.get(description_page_url)\n",
    "r.raise_for_status()\n",
    "html_text = r.text # raw html text for your input"
   ]
  },
  {
   "cell_type": "markdown",
   "metadata": {},
   "source": [
    "## Creating the Dictionaries\n",
    "Now, we will create two dictionaries: one that maps quantities with units and another that maps quantites with its description. All are extracted from the description_page_url, https://www.ndbc.noaa.gov/faq/measdes.shtml. We will use the BeautifulSoup package for HTML parsing."
   ]
  },
  {
   "cell_type": "code",
   "execution_count": 16,
   "metadata": {},
   "outputs": [],
   "source": [
    "if not (path/'units.yaml').exists() or not (path/'meanings.yaml').exists():\n",
    "    soup = BeautifulSoup(html_text, 'lxml')\n",
    "    \n",
    "    # For units, extract content from the <pre class=\"wide-layout\"> tag, which was determined by inspecting the HTML on the website\n",
    "    unit_html_lines = soup.find('pre', class_='wide-layout').get_text()\n",
    "\n",
    "    # Due to the way the data is laid out, we take the first row as the quantities and the second row as the units\n",
    "    \n",
    "    unit_lines = unit_html_lines.splitlines()\n",
    "    unit_lines = unit_lines[1:] #removing an empty line\n",
    "    quantities = unit_lines[0].split()  # Split by spaces\n",
    "    units = unit_lines[1].split()\n",
    "\n",
    "    unit_map = dict(zip(quantities,units))\n",
    "\n",
    "    # For meanings, first extract content from the <dl class=\"meas-des-glossary\"> tag, which was determined by inspecting the HTML on the website.\n",
    "    # Then, separate the quantities and meanings via their respective tags.\n",
    "    meaning_html_lines = soup.find('dl', class_=\"meas-des-glossary\")\n",
    "    quantities = meaning_html_lines.find_all('dt', class_=\"meas-des-term\")\n",
    "    meanings = meaning_html_lines.find_all('dd', class_=\"meas-des-meaning\")\n",
    "    \n",
    "    meaning_map = {}\n",
    "    \n",
    "    for quantity, meaning in zip(quantities, meanings):\n",
    "        meaning_map[quantity.get_text()] = meaning.get_text().replace(\"\\n\",\" \").replace(\"\\t\",\"\") #remove new lines and tabs, and add to dictionary\n",
    "        \n",
    "    with open(path/'units.yaml', 'w') as f:\n",
    "        yaml.dump(unit_map, f)\n",
    "    with open(path/'meanings.yaml', 'w') as f:\n",
    "        yaml.dump(meaning_map, f)"
   ]
  },
  {
   "cell_type": "code",
   "execution_count": 18,
   "metadata": {},
   "outputs": [
    {
     "data": {
      "text/plain": [
       "{'#YY': '#yr',\n",
       " 'APD': 'sec',\n",
       " 'ATMP': 'degC',\n",
       " 'DD': 'dy',\n",
       " 'DEWP': 'degC',\n",
       " 'DPD': 'sec',\n",
       " 'GST': 'm/s',\n",
       " 'MM': 'mo',\n",
       " 'MWD': 'degT',\n",
       " 'PRES': 'hPa',\n",
       " 'PTDY': 'hPa',\n",
       " 'TIDE': 'ft',\n",
       " 'VIS': 'nmi',\n",
       " 'WDIR': 'degT',\n",
       " 'WSPD': 'm/s',\n",
       " 'WTMP': 'degC',\n",
       " 'WVHT': 'm',\n",
       " 'hh': 'hr',\n",
       " 'mm': 'mn'}"
      ]
     },
     "execution_count": 18,
     "metadata": {},
     "output_type": "execute_result"
    }
   ],
   "source": [
    "with open(path/'units.yaml') as f:\n",
    "    unit_map = yaml.safe_load(f)\n",
    "unit_map"
   ]
  },
  {
   "cell_type": "code",
   "execution_count": 20,
   "metadata": {},
   "outputs": [
    {
     "data": {
      "text/plain": [
       "{'APD': 'Average wave period (seconds) of all waves during the 20-minute period. See the Wave Measurements section.',\n",
       " 'ATMP': 'Air temperature (Celsius).  For sensor heights on buoys, see Hull Descriptions.  For sensor heights at C-MAN stations, see C-MAN Sensor Locations',\n",
       " 'DEWP': 'Dewpoint temperature taken at the same height as the air temperature measurement.',\n",
       " 'DPD': 'Dominant wave period (seconds) is the period with the maximum wave energy. See the Wave Measurements section.',\n",
       " 'GST': 'Peak 5 or 8 second gust speed (m/s) measured during the eight-minute or two-minute period.  The 5 or 8 second period can be determined by  payload, See the Sensor Reporting, Sampling, and Accuracy section.',\n",
       " 'MWD': 'The direction from which the waves at the dominant period (DPD) are  coming. The units are degrees from true North, increasing clockwise, with  North as 0 (zero) degrees and East as 90 degrees.   See the Wave Measurements section.',\n",
       " 'PRES': 'Sea level pressure (hPa).  For C-MAN sites and Great Lakes buoys, the recorded pressure is reduced to sea level using the method described in NWS Technical Procedures Bulletin 291 (11/14/80). ( labeled BAR in Historical files)',\n",
       " 'PTDY': 'Pressure Tendency is the direction (plus or minus) and the amount of pressure change (hPa)for a three hour period ending at the time of observation. (not in Historical files)',\n",
       " 'TIDE': 'The water level in feet above or below Mean Lower Low Water (MLLW).  ',\n",
       " 'VIS': 'Station visibility (nautical miles). Note that buoy stations are limited to reports from 0 to 1.6 nmi.',\n",
       " 'WDIR': 'Wind direction (the direction the wind is coming from in degrees clockwise from true N) during the same period used for WSPD. See  Wind Averaging Methods',\n",
       " 'WSPD': 'Wind speed (m/s) averaged over an eight-minute period for buoys and a two-minute period for land stations.  Reported Hourly.  See  Wind Averaging Methods.',\n",
       " 'WTMP': \"Sea surface temperature (Celsius). For buoys the depth is referenced to the hull's waterline. For fixed platforms it varies with tide, but is referenced to, or near Mean Lower Low Water (MLLW).\",\n",
       " 'WVHT': 'Significant wave height (meters) is calculated as the average of the highest one-third of all of the wave heights during the 20-minute sampling period.  See the Wave Measurements section.'}"
      ]
     },
     "execution_count": 20,
     "metadata": {},
     "output_type": "execute_result"
    }
   ],
   "source": [
    "with open(path/'meanings.yaml') as f:\n",
    "    meaning_map = yaml.safe_load(f)\n",
    "meaning_map"
   ]
  },
  {
   "cell_type": "markdown",
   "metadata": {},
   "source": [
    "You may want to concatenate each buoy's data into a single dataframe, or any other data structure that you see fit. `pandas` is recommended here for your convenience."
   ]
  },
  {
   "cell_type": "markdown",
   "metadata": {},
   "source": [
    "After plotting, you will notice that some values are saturated at ~100. This is considered as artifacts, and should be removed. We will filter out everything $\\ge 90$ in this case. If you are using `pandas`, you can do something like `df[df[columns] < 90]`.\n",
    "Also, remove all rows with `NaN` values."
   ]
  },
  {
   "cell_type": "code",
   "execution_count": 22,
   "metadata": {},
   "outputs": [],
   "source": [
    "#this was done above, when we initially preprocessed the data"
   ]
  },
  {
   "cell_type": "markdown",
   "metadata": {},
   "source": [
    "As python handles datetime objects in fundamentally nasty way, we provide a snippet to convert YMDhm to datetime objects for you. You can use it like this:\n",
    "\n",
    "```python\n",
    "YMDhm = df[['#YY','MM','DD','hh','mm']]\n",
    "timestemp = YMDhm.agg(lambda x: datetime(*x), axis=1)\n",
    "```\n",
    "\n",
    "to get a series of datetime objects from the dataframe `df` with columns `#YY`, `MM`, `DD`, `hh`, and `mm`."
   ]
  },
  {
   "cell_type": "markdown",
   "metadata": {},
   "source": [
    "#### For one buoy, plot all of its columns from all last 10 years. You can use any plotter of your choice.\n",
    "##### Can you see any trend? If it is too noisy for human eyes, what could to be done to make it more clear?"
   ]
  },
  {
   "cell_type": "markdown",
   "metadata": {},
   "source": [
    "## Analyzing the Data\n",
    "Now, we will synthesize the data above and determine the relevant correlations. Due to the large volume of data, it is necessarily to downsample the data by a relatively large factor such that the trends and correlations can be more easily seen, without as much noise. Due to some saturation of the data, there will appear some minor gaps in the graph, particularly in some intervals from 2019-2021. We will also compute the Pearson correlation correlations between the (smoothed) data sets."
   ]
  },
  {
   "cell_type": "code",
   "execution_count": 24,
   "metadata": {},
   "outputs": [
    {
     "data": {
      "image/png": "[encoded data removed]",
      "text/plain": [
       "<Figure size 1300x500 with 1 Axes>"
      ]
     },
     "metadata": {},
     "output_type": "display_data"
    }
   ],
   "source": [
    "buoy41002 = pd.read_csv(path/\"filtered_buoy41002.csv\")\n",
    "\n",
    "# Downsample by a factor of 100 to make the data less noisy. This means that out of all the data, only every 100th point is plotted\n",
    "downsample_ratio = 100\n",
    "smoothed_buoy41002 = buoy41002.iloc[::downsample_ratio]\n",
    "\n",
    "# Create a Pandas series consisting of the timestamps, to be used for plotting\n",
    "YMDhm = smoothed_buoy41002[['#YY','MM','DD','hh','mm']]\n",
    "timestamp = YMDhm.agg(lambda x: datetime(*x), axis=1)\n",
    "\n",
    "# Implement a larger figure size for clarity\n",
    "plt.figure(figsize=(13,5))\n",
    "plt.xlabel('Time Index')\n",
    "plt.title('Mean Ocean Temperatures (WTMP), Maximum Wave Heights (WVHT), Wave Periods (APD), and Mean Wind Speeds (WSPD) vs. Time')\n",
    "          \n",
    "# Plotting the 4 columns in the columns list, with small marker size for clarity\n",
    "for column in columns:\n",
    "    plt.scatter(timestamp, smoothed_buoy41002[column], s=2, label=column)\n",
    "    \n",
    "legend = plt.legend(loc='right')"
   ]
  },
  {
   "cell_type": "markdown",
   "metadata": {},
   "source": [
    "##### Launch `scipy.stats` and choose something like Pearson's or Spearman's correlation test. Determine what (if any) correlations you find between mean ocean temperatures and maximum wave heights or wave periods.|"
   ]
  },
  {
   "cell_type": "code",
   "execution_count": 26,
   "metadata": {},
   "outputs": [
    {
     "name": "stdout",
     "output_type": "stream",
     "text": [
      "Mean Ocean Temperatures (WTMP) vs. Maximum Wave Heights (WVHT)\n",
      "Correlation Coefficient: -0.3222746199152538\n",
      "P-Value: 3.267937068568006e-18\n"
     ]
    }
   ],
   "source": [
    "# Calculating and printing the Pearson correlation coefficient between ocean temperature and wave height\n",
    "print(\"Mean Ocean Temperatures (WTMP) vs. Maximum Wave Heights (WVHT)\")\n",
    "print(\"Correlation Coefficient: \" + str(mstats.pearsonr(smoothed_buoy41002['WTMP'],smoothed_buoy41002['WVHT'])[0]))\n",
    "print(\"P-Value: \" + str(mstats.pearsonr(smoothed_buoy41002['WTMP'],smoothed_buoy41002['WVHT'])[1]))"
   ]
  },
  {
   "cell_type": "code",
   "execution_count": 28,
   "metadata": {},
   "outputs": [
    {
     "name": "stdout",
     "output_type": "stream",
     "text": [
      "Mean Ocean Temperatures (WTMP) vs. Wave Periods (APD)\n",
      "Correlation Coefficient: -0.129021688992308\n",
      "P-Value: 0.0006626333509875834\n"
     ]
    }
   ],
   "source": [
    "# Calculating and printing the Pearson correlation coefficient between ocean temperature and wave period.\n",
    "print(\"Mean Ocean Temperatures (WTMP) vs. Wave Periods (APD)\")\n",
    "print(\"Correlation Coefficient: \" + str(mstats.pearsonr(smoothed_buoy41002['WTMP'],smoothed_buoy41002['APD'])[0]))\n",
    "print(\"P-Value: \" + str(mstats.pearsonr(smoothed_buoy41002['WTMP'],smoothed_buoy41002['APD'])[1]))"
   ]
  },
  {
   "cell_type": "markdown",
   "metadata": {},
   "source": [
    "# Conclusions\n",
    "For both Mean Ocean Temperature (WTMP) vs. Maximum Wave Heights (WVHT) and WTMP vs. Wave Periods (APD), there is a clear negative Pearson correlation. Despite the relatively modest seeming correlation coefficients (|r|<1/3), these are clearly statistically significant due to the large volume of data. Thus, we conclude that ocean temperature and maximum wave heights/wave periods are correlated."
   ]
  }
 ],
 "metadata": {
  "kernelspec": {
   "display_name": "Python ph21env",
   "language": "python",
   "name": "ph21env"
  },
  "language_info": {
   "codemirror_mode": {
    "name": "ipython",
    "version": 3
   },
   "file_extension": ".py",
   "mimetype": "text/x-python",
   "name": "python",
   "nbconvert_exporter": "python",
   "pygments_lexer": "ipython3",
   "version": "3.12.8"
  }
 },
 "nbformat": 4,
 "nbformat_minor": 4
}
